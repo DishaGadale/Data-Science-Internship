{
 "cells": [
  {
   "cell_type": "markdown",
   "id": "4a0d82f5",
   "metadata": {},
   "source": [
    "# INTERNSHIP TASK"
   ]
  },
  {
   "cell_type": "raw",
   "id": "d49820ce",
   "metadata": {},
   "source": [
    "Problem Statement No 6"
   ]
  },
  {
   "cell_type": "raw",
   "id": "2ebb26ad",
   "metadata": {},
   "source": [
    "Disha Gadale\n",
    "College-Keystone School Of Engineering\n",
    "Roll No-54(B)"
   ]
  },
  {
   "cell_type": "code",
   "execution_count": 2,
   "id": "73979893",
   "metadata": {},
   "outputs": [],
   "source": [
    "#Importing the python Libraries\n",
    "import pandas as pd\n",
    "import numpy as np\n",
    "import matplotlib.pyplot as plt"
   ]
  },
  {
   "cell_type": "code",
   "execution_count": 3,
   "id": "55dd9df4",
   "metadata": {},
   "outputs": [],
   "source": [
    "#Read the Dataset\n",
    "df=pd.read_csv('netflix_titles.csv')"
   ]
  },
  {
   "cell_type": "code",
   "execution_count": 4,
   "id": "81e9a7ff",
   "metadata": {},
   "outputs": [
    {
     "data": {
      "text/html": [
       "<div>\n",
       "<style scoped>\n",
       "    .dataframe tbody tr th:only-of-type {\n",
       "        vertical-align: middle;\n",
       "    }\n",
       "\n",
       "    .dataframe tbody tr th {\n",
       "        vertical-align: top;\n",
       "    }\n",
       "\n",
       "    .dataframe thead th {\n",
       "        text-align: right;\n",
       "    }\n",
       "</style>\n",
       "<table border=\"1\" class=\"dataframe\">\n",
       "  <thead>\n",
       "    <tr style=\"text-align: right;\">\n",
       "      <th></th>\n",
       "      <th>show_id</th>\n",
       "      <th>type</th>\n",
       "      <th>title</th>\n",
       "      <th>director</th>\n",
       "      <th>cast</th>\n",
       "      <th>country</th>\n",
       "      <th>date_added</th>\n",
       "      <th>release_year</th>\n",
       "      <th>rating</th>\n",
       "      <th>duration</th>\n",
       "      <th>listed_in</th>\n",
       "      <th>description</th>\n",
       "      <th>Unnamed: 12</th>\n",
       "    </tr>\n",
       "  </thead>\n",
       "  <tbody>\n",
       "    <tr>\n",
       "      <th>0</th>\n",
       "      <td>s1</td>\n",
       "      <td>TV Show</td>\n",
       "      <td>3%</td>\n",
       "      <td>NaN</td>\n",
       "      <td>João Miguel, Bianca Comparato, Michel Gomes, R...</td>\n",
       "      <td>Brazil</td>\n",
       "      <td>August 14, 2020</td>\n",
       "      <td>2020</td>\n",
       "      <td>TV-MA</td>\n",
       "      <td>4 Seasons</td>\n",
       "      <td>International TV Shows, TV Dramas, TV Sci-Fi &amp;...</td>\n",
       "      <td>In a future where the elite inhabit an island ...</td>\n",
       "      <td>NaN</td>\n",
       "    </tr>\n",
       "    <tr>\n",
       "      <th>1</th>\n",
       "      <td>s2</td>\n",
       "      <td>Movie</td>\n",
       "      <td>7:19</td>\n",
       "      <td>Jorge Michel Grau</td>\n",
       "      <td>Demián Bichir, Héctor Bonilla, Oscar Serrano, ...</td>\n",
       "      <td>Mexico</td>\n",
       "      <td>December 23, 2016</td>\n",
       "      <td>2016</td>\n",
       "      <td>TV-MA</td>\n",
       "      <td>93 min</td>\n",
       "      <td>Dramas, International Movies</td>\n",
       "      <td>After a devastating earthquake hits Mexico Cit...</td>\n",
       "      <td>NaN</td>\n",
       "    </tr>\n",
       "    <tr>\n",
       "      <th>2</th>\n",
       "      <td>s3</td>\n",
       "      <td>Movie</td>\n",
       "      <td>23:59</td>\n",
       "      <td>Gilbert Chan</td>\n",
       "      <td>Tedd Chan, Stella Chung, Henley Hii, Lawrence ...</td>\n",
       "      <td>Singapore</td>\n",
       "      <td>December 20, 2018</td>\n",
       "      <td>2011</td>\n",
       "      <td>R</td>\n",
       "      <td>78 min</td>\n",
       "      <td>Horror Movies, International Movies</td>\n",
       "      <td>When an army recruit is found dead, his fellow...</td>\n",
       "      <td>NaN</td>\n",
       "    </tr>\n",
       "    <tr>\n",
       "      <th>3</th>\n",
       "      <td>s4</td>\n",
       "      <td>Movie</td>\n",
       "      <td>9</td>\n",
       "      <td>Shane Acker</td>\n",
       "      <td>Elijah Wood, John C. Reilly, Jennifer Connelly...</td>\n",
       "      <td>United States</td>\n",
       "      <td>November 16, 2017</td>\n",
       "      <td>2009</td>\n",
       "      <td>PG-13</td>\n",
       "      <td>80 min</td>\n",
       "      <td>Action &amp; Adventure, Independent Movies, Sci-Fi...</td>\n",
       "      <td>In a postapocalyptic world, rag-doll robots hi...</td>\n",
       "      <td>NaN</td>\n",
       "    </tr>\n",
       "    <tr>\n",
       "      <th>4</th>\n",
       "      <td>s5</td>\n",
       "      <td>Movie</td>\n",
       "      <td>21</td>\n",
       "      <td>Robert Luketic</td>\n",
       "      <td>Jim Sturgess, Kevin Spacey, Kate Bosworth, Aar...</td>\n",
       "      <td>United States</td>\n",
       "      <td>January 1, 2020</td>\n",
       "      <td>2008</td>\n",
       "      <td>PG-13</td>\n",
       "      <td>123 min</td>\n",
       "      <td>Dramas</td>\n",
       "      <td>A brilliant group of students become card-coun...</td>\n",
       "      <td>NaN</td>\n",
       "    </tr>\n",
       "    <tr>\n",
       "      <th>...</th>\n",
       "      <td>...</td>\n",
       "      <td>...</td>\n",
       "      <td>...</td>\n",
       "      <td>...</td>\n",
       "      <td>...</td>\n",
       "      <td>...</td>\n",
       "      <td>...</td>\n",
       "      <td>...</td>\n",
       "      <td>...</td>\n",
       "      <td>...</td>\n",
       "      <td>...</td>\n",
       "      <td>...</td>\n",
       "      <td>...</td>\n",
       "    </tr>\n",
       "    <tr>\n",
       "      <th>7782</th>\n",
       "      <td>s7783</td>\n",
       "      <td>Movie</td>\n",
       "      <td>Zozo</td>\n",
       "      <td>Josef Fares</td>\n",
       "      <td>Imad Creidi, Antoinette Turk, Elias Gergi, Car...</td>\n",
       "      <td>Sweden, Czech Republic, United Kingdom, Denmar...</td>\n",
       "      <td>October 19, 2020</td>\n",
       "      <td>2005</td>\n",
       "      <td>TV-MA</td>\n",
       "      <td>99 min</td>\n",
       "      <td>Dramas, International Movies</td>\n",
       "      <td>When Lebanon's Civil War deprives Zozo of his ...</td>\n",
       "      <td>NaN</td>\n",
       "    </tr>\n",
       "    <tr>\n",
       "      <th>7783</th>\n",
       "      <td>s7784</td>\n",
       "      <td>Movie</td>\n",
       "      <td>Zubaan</td>\n",
       "      <td>Mozez Singh</td>\n",
       "      <td>Vicky Kaushal, Sarah-Jane Dias, Raaghav Chanan...</td>\n",
       "      <td>India</td>\n",
       "      <td>March 2, 2019</td>\n",
       "      <td>2015</td>\n",
       "      <td>TV-14</td>\n",
       "      <td>111 min</td>\n",
       "      <td>Dramas, International Movies, Music &amp; Musicals</td>\n",
       "      <td>A scrappy but poor boy worms his way into a ty...</td>\n",
       "      <td>NaN</td>\n",
       "    </tr>\n",
       "    <tr>\n",
       "      <th>7784</th>\n",
       "      <td>s7785</td>\n",
       "      <td>Movie</td>\n",
       "      <td>Zulu Man in Japan</td>\n",
       "      <td>NaN</td>\n",
       "      <td>Nasty C</td>\n",
       "      <td>NaN</td>\n",
       "      <td>September 25, 2020</td>\n",
       "      <td>2019</td>\n",
       "      <td>TV-MA</td>\n",
       "      <td>44 min</td>\n",
       "      <td>Documentaries, International Movies, Music &amp; M...</td>\n",
       "      <td>In this documentary, South African rapper Nast...</td>\n",
       "      <td>NaN</td>\n",
       "    </tr>\n",
       "    <tr>\n",
       "      <th>7785</th>\n",
       "      <td>s7786</td>\n",
       "      <td>TV Show</td>\n",
       "      <td>Zumbo's Just Desserts</td>\n",
       "      <td>NaN</td>\n",
       "      <td>Adriano Zumbo, Rachel Khoo</td>\n",
       "      <td>Australia</td>\n",
       "      <td>October 31, 2020</td>\n",
       "      <td>2019</td>\n",
       "      <td>TV-PG</td>\n",
       "      <td>1 Season</td>\n",
       "      <td>International TV Shows, Reality TV</td>\n",
       "      <td>Dessert wizard Adriano Zumbo looks for the nex...</td>\n",
       "      <td>NaN</td>\n",
       "    </tr>\n",
       "    <tr>\n",
       "      <th>7786</th>\n",
       "      <td>s7787</td>\n",
       "      <td>Movie</td>\n",
       "      <td>ZZ TOP: THAT LITTLE OL' BAND FROM TEXAS</td>\n",
       "      <td>Sam Dunn</td>\n",
       "      <td>NaN</td>\n",
       "      <td>United Kingdom, Canada, United States</td>\n",
       "      <td>March 1, 2020</td>\n",
       "      <td>2019</td>\n",
       "      <td>TV-MA</td>\n",
       "      <td>90 min</td>\n",
       "      <td>Documentaries, Music &amp; Musicals</td>\n",
       "      <td>This documentary delves into the mystique behi...</td>\n",
       "      <td>NaN</td>\n",
       "    </tr>\n",
       "  </tbody>\n",
       "</table>\n",
       "<p>7787 rows × 13 columns</p>\n",
       "</div>"
      ],
      "text/plain": [
       "     show_id     type                                    title  \\\n",
       "0         s1  TV Show                                       3%   \n",
       "1         s2    Movie                                     7:19   \n",
       "2         s3    Movie                                    23:59   \n",
       "3         s4    Movie                                        9   \n",
       "4         s5    Movie                                       21   \n",
       "...      ...      ...                                      ...   \n",
       "7782   s7783    Movie                                     Zozo   \n",
       "7783   s7784    Movie                                   Zubaan   \n",
       "7784   s7785    Movie                        Zulu Man in Japan   \n",
       "7785   s7786  TV Show                    Zumbo's Just Desserts   \n",
       "7786   s7787    Movie  ZZ TOP: THAT LITTLE OL' BAND FROM TEXAS   \n",
       "\n",
       "               director                                               cast  \\\n",
       "0                   NaN  João Miguel, Bianca Comparato, Michel Gomes, R...   \n",
       "1     Jorge Michel Grau  Demián Bichir, Héctor Bonilla, Oscar Serrano, ...   \n",
       "2          Gilbert Chan  Tedd Chan, Stella Chung, Henley Hii, Lawrence ...   \n",
       "3           Shane Acker  Elijah Wood, John C. Reilly, Jennifer Connelly...   \n",
       "4        Robert Luketic  Jim Sturgess, Kevin Spacey, Kate Bosworth, Aar...   \n",
       "...                 ...                                                ...   \n",
       "7782        Josef Fares  Imad Creidi, Antoinette Turk, Elias Gergi, Car...   \n",
       "7783        Mozez Singh  Vicky Kaushal, Sarah-Jane Dias, Raaghav Chanan...   \n",
       "7784                NaN                                            Nasty C   \n",
       "7785                NaN                         Adriano Zumbo, Rachel Khoo   \n",
       "7786           Sam Dunn                                                NaN   \n",
       "\n",
       "                                                country          date_added  \\\n",
       "0                                                Brazil     August 14, 2020   \n",
       "1                                                Mexico   December 23, 2016   \n",
       "2                                             Singapore   December 20, 2018   \n",
       "3                                         United States   November 16, 2017   \n",
       "4                                         United States     January 1, 2020   \n",
       "...                                                 ...                 ...   \n",
       "7782  Sweden, Czech Republic, United Kingdom, Denmar...    October 19, 2020   \n",
       "7783                                              India       March 2, 2019   \n",
       "7784                                                NaN  September 25, 2020   \n",
       "7785                                          Australia    October 31, 2020   \n",
       "7786              United Kingdom, Canada, United States       March 1, 2020   \n",
       "\n",
       "      release_year rating   duration  \\\n",
       "0             2020  TV-MA  4 Seasons   \n",
       "1             2016  TV-MA     93 min   \n",
       "2             2011      R     78 min   \n",
       "3             2009  PG-13     80 min   \n",
       "4             2008  PG-13    123 min   \n",
       "...            ...    ...        ...   \n",
       "7782          2005  TV-MA     99 min   \n",
       "7783          2015  TV-14    111 min   \n",
       "7784          2019  TV-MA     44 min   \n",
       "7785          2019  TV-PG   1 Season   \n",
       "7786          2019  TV-MA     90 min   \n",
       "\n",
       "                                              listed_in  \\\n",
       "0     International TV Shows, TV Dramas, TV Sci-Fi &...   \n",
       "1                          Dramas, International Movies   \n",
       "2                   Horror Movies, International Movies   \n",
       "3     Action & Adventure, Independent Movies, Sci-Fi...   \n",
       "4                                                Dramas   \n",
       "...                                                 ...   \n",
       "7782                       Dramas, International Movies   \n",
       "7783     Dramas, International Movies, Music & Musicals   \n",
       "7784  Documentaries, International Movies, Music & M...   \n",
       "7785                 International TV Shows, Reality TV   \n",
       "7786                    Documentaries, Music & Musicals   \n",
       "\n",
       "                                            description Unnamed: 12  \n",
       "0     In a future where the elite inhabit an island ...         NaN  \n",
       "1     After a devastating earthquake hits Mexico Cit...         NaN  \n",
       "2     When an army recruit is found dead, his fellow...         NaN  \n",
       "3     In a postapocalyptic world, rag-doll robots hi...         NaN  \n",
       "4     A brilliant group of students become card-coun...         NaN  \n",
       "...                                                 ...         ...  \n",
       "7782  When Lebanon's Civil War deprives Zozo of his ...         NaN  \n",
       "7783  A scrappy but poor boy worms his way into a ty...         NaN  \n",
       "7784  In this documentary, South African rapper Nast...         NaN  \n",
       "7785  Dessert wizard Adriano Zumbo looks for the nex...         NaN  \n",
       "7786  This documentary delves into the mystique behi...         NaN  \n",
       "\n",
       "[7787 rows x 13 columns]"
      ]
     },
     "execution_count": 4,
     "metadata": {},
     "output_type": "execute_result"
    }
   ],
   "source": [
    "df"
   ]
  },
  {
   "cell_type": "raw",
   "id": "0ae4e3fe",
   "metadata": {},
   "source": [
    "1)Print the names of all TV shows released in 2020."
   ]
  },
  {
   "cell_type": "code",
   "execution_count": 5,
   "id": "eb16e44a",
   "metadata": {},
   "outputs": [
    {
     "data": {
      "text/plain": [
       "0                                        3%\n",
       "24      ​SAINT SEIYA: Knights of the Zodiac\n",
       "26                                 (Un)Well\n",
       "27                                   #Alive\n",
       "29                                 #blackAF\n",
       "                       ...                 \n",
       "7725                        You Cannot Hide\n",
       "7734                        You've Got This\n",
       "7738                        Young Wallander\n",
       "7741              Your Name Engraved Herein\n",
       "7744            Yours Sincerely, Kanan Gill\n",
       "Name: title, Length: 868, dtype: object"
      ]
     },
     "execution_count": 5,
     "metadata": {},
     "output_type": "execute_result"
    }
   ],
   "source": [
    "tv_shows_2020 = df[df['release_year'] == 2020]\n",
    "tv_shows_2020['title']"
   ]
  },
  {
   "cell_type": "raw",
   "id": "3a9fe3c5",
   "metadata": {},
   "source": [
    "2)Sort and print the names of movies in the \"Horror Movies\" category."
   ]
  },
  {
   "cell_type": "code",
   "execution_count": 6,
   "id": "6c570cf9",
   "metadata": {},
   "outputs": [
    {
     "data": {
      "text/plain": [
       "261                           A.M.I.\n",
       "417     All the Boys Love Mandy Lane\n",
       "1551                  Cult of Chucky\n",
       "1654                         Deadcon\n",
       "1671                     Death House\n",
       "1673                     Death of Me\n",
       "1811     Don't Be Afraid of the Dark\n",
       "1976                             Eli\n",
       "2104                    Family Blood\n",
       "2165             Final Destination 3\n",
       "2286                 Friday the 13th\n",
       "2394                     Ghost House\n",
       "2405                   Ghosts of War\n",
       "2422         Girl on the Third Floor\n",
       "2704                      Here Alone\n",
       "2833              House of the Witch\n",
       "3456                          Kristy\n",
       "3890                       Malicious\n",
       "4042                     Mercy Black\n",
       "4392                           Nails\n",
       "4902                        Polaroid\n",
       "4989                      Prom Night\n",
       "5133                   Red Christmas\n",
       "5442                        Scream 2\n",
       "5443                        Scream 3\n",
       "5514                 Seven in Heaven\n",
       "5543                     Shark Night\n",
       "5606         Silent Hill: Revelation\n",
       "5633                      Sinister 2\n",
       "5636                           Siren\n",
       "5765                        Splatter\n",
       "5812                       Stephanie\n",
       "6081           The Amityville Horror\n",
       "6138                  The Black Room\n",
       "6350           The Final Destination\n",
       "6370                   The Forgotten\n",
       "6437                      The Hatred\n",
       "6448                    The Heretics\n",
       "6913                       The Super\n",
       "7068                        Thriller\n",
       "7258                   Truth or Dare\n",
       "7275                            Tusk\n",
       "7687                              XX\n",
       "Name: title, dtype: object"
      ]
     },
     "execution_count": 6,
     "metadata": {},
     "output_type": "execute_result"
    }
   ],
   "source": [
    "horror_movies= df[df['listed_in'] == 'Horror Movies']\n",
    "sorted_horror_movies = horror_movies.sort_values(by='title')\n",
    "\n",
    "horror_movies['title']"
   ]
  },
  {
   "cell_type": "raw",
   "id": "a253baf2",
   "metadata": {},
   "source": [
    " 3)How many documentaries are there in the dataset?"
   ]
  },
  {
   "cell_type": "code",
   "execution_count": 7,
   "id": "e12437c8",
   "metadata": {},
   "outputs": [
    {
     "data": {
      "text/plain": [
       "334"
      ]
     },
     "execution_count": 7,
     "metadata": {},
     "output_type": "execute_result"
    }
   ],
   "source": [
    "documentaries = len(df[df['listed_in'] == 'Documentaries'])\n",
    "documentaries"
   ]
  },
  {
   "cell_type": "raw",
   "id": "13208959",
   "metadata": {},
   "source": [
    "4)Print the titles and release years of movies (non-null values) directed by\n",
    "Christopher Nolan"
   ]
  },
  {
   "cell_type": "code",
   "execution_count": 8,
   "id": "2d316a03",
   "metadata": {},
   "outputs": [
    {
     "data": {
      "text/html": [
       "<div>\n",
       "<style scoped>\n",
       "    .dataframe tbody tr th:only-of-type {\n",
       "        vertical-align: middle;\n",
       "    }\n",
       "\n",
       "    .dataframe tbody tr th {\n",
       "        vertical-align: top;\n",
       "    }\n",
       "\n",
       "    .dataframe thead th {\n",
       "        text-align: right;\n",
       "    }\n",
       "</style>\n",
       "<table border=\"1\" class=\"dataframe\">\n",
       "  <thead>\n",
       "    <tr style=\"text-align: right;\">\n",
       "      <th></th>\n",
       "      <th>title</th>\n",
       "      <th>release_year</th>\n",
       "    </tr>\n",
       "  </thead>\n",
       "  <tbody>\n",
       "    <tr>\n",
       "      <th>2979</th>\n",
       "      <td>Inception</td>\n",
       "      <td>2010</td>\n",
       "    </tr>\n",
       "  </tbody>\n",
       "</table>\n",
       "</div>"
      ],
      "text/plain": [
       "          title  release_year\n",
       "2979  Inception          2010"
      ]
     },
     "execution_count": 8,
     "metadata": {},
     "output_type": "execute_result"
    }
   ],
   "source": [
    "movies = df[(df['director'] == 'Christopher Nolan') & df['release_year'].notnull()]\n",
    "movies[['title', 'release_year']]"
   ]
  },
  {
   "cell_type": "raw",
   "id": "55d5f4e1",
   "metadata": {},
   "source": [
    "5)How many movies are there with a runtime less than 60 minutes?"
   ]
  },
  {
   "cell_type": "code",
   "execution_count": 9,
   "id": "ad0a8828",
   "metadata": {},
   "outputs": [],
   "source": [
    "import warnings\n",
    "warnings.filterwarnings(\"ignore\", category=FutureWarning)\n",
    "warnings.filterwarnings(\"ignore\", category=DeprecationWarning)\n"
   ]
  },
  {
   "cell_type": "code",
   "execution_count": 10,
   "id": "c5f5b6a2",
   "metadata": {},
   "outputs": [
    {
     "data": {
      "text/plain": [
       "0"
      ]
     },
     "execution_count": 10,
     "metadata": {},
     "output_type": "execute_result"
    }
   ],
   "source": [
    "df['duration'] = pd.to_numeric(df['duration'], errors='coerce')\n",
    "count = len(df.query('duration < 60'))\n",
    "count"
   ]
  },
  {
   "cell_type": "raw",
   "id": "56495008",
   "metadata": {},
   "source": [
    "6)How many TV shows are there with more than 5 seasons?"
   ]
  },
  {
   "cell_type": "code",
   "execution_count": 11,
   "id": "34d8006a",
   "metadata": {},
   "outputs": [
    {
     "data": {
      "text/plain": [
       "0"
      ]
     },
     "execution_count": 11,
     "metadata": {},
     "output_type": "execute_result"
    }
   ],
   "source": [
    "df['duration'] = pd.to_numeric(df['duration'], errors='coerce')\n",
    "x = df[df['duration'] > 5]\n",
    "count = len(x)\n",
    "count"
   ]
  },
  {
   "cell_type": "raw",
   "id": "226b2931",
   "metadata": {},
   "source": [
    "7)Print the names of TV shows with the word \"Detective\" in their title."
   ]
  },
  {
   "cell_type": "code",
   "execution_count": 12,
   "id": "031aa8a9",
   "metadata": {},
   "outputs": [
    {
     "data": {
      "text/plain": [
       "979             Blind Detective\n",
       "4504    Noddy Toyland Detective\n",
       "6403         The Good Detective\n",
       "6488       The Indian Detective\n",
       "6693      The Murder Detectives\n",
       "7206       Treehouse Detectives\n",
       "Name: title, dtype: object"
      ]
     },
     "execution_count": 12,
     "metadata": {},
     "output_type": "execute_result"
    }
   ],
   "source": [
    "g=df[df['title'].str.contains('Detective')]\n",
    "g['title']"
   ]
  },
  {
   "cell_type": "raw",
   "id": "36b6af66",
   "metadata": {},
   "source": [
    "8)Print the names of movies with the lowest and highest IMDb ratings."
   ]
  },
  {
   "cell_type": "code",
   "execution_count": 13,
   "id": "f79ad638",
   "metadata": {},
   "outputs": [
    {
     "data": {
      "text/plain": [
       "nan"
      ]
     },
     "execution_count": 13,
     "metadata": {},
     "output_type": "execute_result"
    }
   ],
   "source": [
    "df['rating'] = pd.to_numeric(df['rating'], errors='coerce')\n",
    "lowest_rating=df['rating'].min()\n",
    "lowest_rating"
   ]
  },
  {
   "cell_type": "code",
   "execution_count": 14,
   "id": "9a33019d",
   "metadata": {},
   "outputs": [
    {
     "data": {
      "text/plain": [
       "nan"
      ]
     },
     "execution_count": 14,
     "metadata": {},
     "output_type": "execute_result"
    }
   ],
   "source": [
    "df['rating'] = pd.to_numeric(df['rating'], errors='coerce')\n",
    "highest_rating=df['rating'].max()\n",
    "highest_rating"
   ]
  },
  {
   "cell_type": "raw",
   "id": "5694560c",
   "metadata": {},
   "source": [
    "9)Find information about the oldest and newest releases."
   ]
  },
  {
   "cell_type": "code",
   "execution_count": 15,
   "id": "1db924b1",
   "metadata": {},
   "outputs": [
    {
     "data": {
      "text/plain": [
       "show_id                                                     s1926\n",
       "type                                                        Movie\n",
       "title           Edmilson Filho: Notas, Comedy about Relationships\n",
       "director                                             Halder Gomes\n",
       "cast                                               Edmilson Filho\n",
       "country                                                    Brazil\n",
       "date_added                                       November 1, 2018\n",
       "release_year                                                 2017\n",
       "rating                                                        NaN\n",
       "duration                                                      NaN\n",
       "listed_in                                         Stand-Up Comedy\n",
       "description     Brazilian comedian Edmilson Filho walks his au...\n",
       "Unnamed: 12                                                   NaN\n",
       "Name: 1925, dtype: object"
      ]
     },
     "execution_count": 15,
     "metadata": {},
     "output_type": "execute_result"
    }
   ],
   "source": [
    "oldest=df['release_year'].min()\n",
    "c=df.loc[oldest]\n",
    "c"
   ]
  },
  {
   "cell_type": "code",
   "execution_count": 16,
   "id": "693c70f6",
   "metadata": {},
   "outputs": [
    {
     "data": {
      "text/plain": [
       "show_id                                                     s2022\n",
       "type                                                        Movie\n",
       "title                             Eric Andre: Legalize Everything\n",
       "director                                         Eric Notarnicola\n",
       "cast                                                   Eric André\n",
       "country                                             United States\n",
       "date_added                                          June 23, 2020\n",
       "release_year                                                 2020\n",
       "rating                                                        NaN\n",
       "duration                                                      NaN\n",
       "listed_in                                         Stand-Up Comedy\n",
       "description     Eric Andre takes the stage in New Orleans and ...\n",
       "Unnamed: 12                                                   NaN\n",
       "Name: 2021, dtype: object"
      ]
     },
     "execution_count": 16,
     "metadata": {},
     "output_type": "execute_result"
    }
   ],
   "source": [
    "newest=df['release_year'].max()\n",
    "a=df.loc[newest]\n",
    "a"
   ]
  },
  {
   "cell_type": "raw",
   "id": "0b74d385",
   "metadata": {},
   "source": [
    "10)Plot the distribution of movies and TV shows by release year"
   ]
  },
  {
   "cell_type": "code",
   "execution_count": 19,
   "id": "2c47cb61",
   "metadata": {},
   "outputs": [
    {
     "data": {
      "text/plain": [
       "Text(0.5, 1.0, 'Distribution of Movies and TV shows ')"
      ]
     },
     "execution_count": 19,
     "metadata": {},
     "output_type": "execute_result"
    },
    {
     "data": {
      "image/png": "[encoded data removed]",
      "text/plain": [
       "<Figure size 640x480 with 1 Axes>"
      ]
     },
     "metadata": {},
     "output_type": "display_data"
    }
   ],
   "source": [
    "plt.hist(df['release_year'],color='purple',edgecolor='black')\n",
    "plt.xlabel('release_year')\n",
    "plt.ylabel('Frequency')\n",
    "plt.title('Distribution of Movies and TV shows ')"
   ]
  }
 ],
 "metadata": {
  "kernelspec": {
   "display_name": "Python 3 (ipykernel)",
   "language": "python",
   "name": "python3"
  },
  "language_info": {
   "codemirror_mode": {
    "name": "ipython",
    "version": 3
   },
   "file_extension": ".py",
   "mimetype": "text/x-python",
   "name": "python",
   "nbconvert_exporter": "python",
   "pygments_lexer": "ipython3",
   "version": "3.11.5"
  }
 },
 "nbformat": 4,
 "nbformat_minor": 5
}
